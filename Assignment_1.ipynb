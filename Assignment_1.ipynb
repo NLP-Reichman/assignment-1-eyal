{
  "cells": [
    {
      "cell_type": "markdown",
      "metadata": {
        "id": "FECp14-d_F2e"
      },
      "source": [
        "# Set up"
      ]
    },
    {
      "cell_type": "code",
      "execution_count": 1,
      "metadata": {
        "colab": {
          "base_uri": "https://localhost:8080/"
        },
        "id": "za-DgcYB_IQx",
        "outputId": "575160cb-cf01-4cff-8d37-8a8908a70c86"
      },
      "outputs": [],
      "source": [
        "# !git clone https://github.com/NLP-Reichman/2025_assignment_1.git\n",
        "# !mv 2025_assignment_1/data data\n",
        "# !rm 2025_assignment_1/ -r"
      ]
    },
    {
      "cell_type": "markdown",
      "metadata": {
        "id": "0i2bOXTB8Dvc"
      },
      "source": [
        "# Introduction\n",
        "In this assignment you will be creating tools for learning and testing language models. The corpora that you will be working with are lists of tweets in 8 different languages that use the Latin script. The data is provided either formatted as CSV or as JSON, for your convenience. The end goal is to write a set of tools that can detect the language of a given tweet.\n",
        "The relevant files are under the data folder:\n",
        "\n",
        "- en.csv (or the equivalent JSON file)\n",
        "- es.csv (or the equivalent JSON file)\n",
        "- fr.csv (or the equivalent JSON file)\n",
        "- in.csv (or the equivalent JSON file)\n",
        "- it.csv (or the equivalent JSON file)\n",
        "- nl.csv (or the equivalent JSON file)\n",
        "- pt.csv (or the equivalent JSON file)\n",
        "- tl.csv (or the equivalent JSON file)"
      ]
    },
    {
      "cell_type": "code",
      "execution_count": 2,
      "metadata": {
        "id": "1u1qR7iaq_GU"
      },
      "outputs": [],
      "source": [
        "import os\n",
        "import json\n",
        "# from google.colab import files\n",
        "import pandas as pd\n",
        "import numpy as np\n",
        "from itertools import product\n",
        "from collections import defaultdict, Counter\n",
        "import math\n",
        "from tqdm import tqdm\n",
        "import random\n"
      ]
    },
    {
      "cell_type": "markdown",
      "metadata": {
        "id": "IHN0tWTurwkN"
      },
      "source": [
        "# Implementation"
      ]
    },
    {
      "cell_type": "code",
      "execution_count": 3,
      "metadata": {},
      "outputs": [],
      "source": [
        "DIR = 'data/'\n",
        "START_TOKEN = '↠'\n",
        "END_TOKEN = '↞'\n",
        "UNK_TOKEN   = '<unk>'"
      ]
    },
    {
      "cell_type": "markdown",
      "metadata": {
        "id": "i56aKA0K8adr"
      },
      "source": [
        "## Part 1\n",
        "Implement the function *preprocess* that iterates over all the data files and creates a single vocabulary, containing all the tokens in the data. Our token definition is a single UTF-8 encoded character. So, the vocabulary list is a simple Python list of all the characters that you see at least once in the data. The vocabulary should include the `<start>` and  `<end>` tokens.\n",
        "\n",
        "Note - do NOT lowecase the sentences."
      ]
    },
    {
      "cell_type": "code",
      "execution_count": null,
      "metadata": {
        "id": "ws_5u7vRrg0o"
      },
      "outputs": [],
      "source": [
        "def preprocess() -> list[str]:\n",
        "  '''\n",
        "  Return a list of characters, representing the shared vocabulary of all languages\n",
        "  '''\n",
        "  vocab = []\n",
        "  ########################################\n",
        "\n",
        "  vocab: set[str] = set()\n",
        "  for file in os.listdir(DIR):\n",
        "      if file.endswith('.csv'):\n",
        "          df = pd.read_csv(os.path.join(DIR, file))\n",
        "          # Remove duplicates\n",
        "          df = df.drop_duplicates(subset=['tweet_text'])\n",
        "          # Remove empty tweets\n",
        "          df = df[df['tweet_text'].notna()]\n",
        "          \n",
        "          for tweet in df['tweet_text'].astype(str):\n",
        "              vocab.update(tweet)\n",
        "              \n",
        "  # Add special tokens\n",
        "  vocab |= {START_TOKEN, END_TOKEN}\n",
        "  vocab = list(vocab)\n",
        "  ########################################\n",
        "  return vocab"
      ]
    },
    {
      "cell_type": "code",
      "execution_count": 5,
      "metadata": {
        "colab": {
          "base_uri": "https://localhost:8080/"
        },
        "id": "-1jcvg0jtMjF",
        "outputId": "b05d8228-f84f-40fc-be2f-9be57ff3ead9"
      },
      "outputs": [
        {
          "name": "stdout",
          "output_type": "stream",
          "text": [
            "vocab length: 1805\n",
            "Some characters in the vocab: ['w', '🤛', '\\u3000', '尔', '🔱', '🍬', 'ｓ', '➊', '🔛', '︎']\n"
          ]
        }
      ],
      "source": [
        "vocab = preprocess()\n",
        "print(f\"vocab length: {len(vocab)}\")\n",
        "print(f\"Some characters in the vocab: {vocab[:10]}\")"
      ]
    },
    {
      "cell_type": "markdown",
      "metadata": {
        "id": "tpjtwHW08jyH"
      },
      "source": [
        "## Part 2\n",
        "Implement the function *build_lm* that generates a language model from a textual corpus. The function should return a dictionary (representing a model) where the keys are all the relevant *n*-1 sequences, and the values are dictionaries with the *n*_th tokens and their corresponding probabilities to occur. To ensure consistent probabilities calculation, please add n-1 `<start>` tokens to the beginning of a tweet and one `<end>` token at the end. For example, for a trigram model (tokens are characters), it should look something like:\n",
        "\n",
        "{ \"ab\":{\"c\":0.5, \"b\":0.25, \"d\":0.25}, \"ca\":{\"a\":0.2, \"b\":0.7, \"d\":0.1} }\n",
        "\n",
        "which means for example that after the sequence \"ab\", there is a 0.5 chance that \"c\" will appear, 0.25 for \"b\" to appear and 0.25 for \"d\" to appear.\n",
        "\n",
        "Note - You should think how to add the add_one smoothing information to the dictionary and implement it.\n",
        "\n",
        "Please add the `<unk>` token with $p(<unk>)=1|V|$ to the LM if buiulding a smoothed LM."
      ]
    },
    {
      "cell_type": "code",
      "execution_count": 6,
      "metadata": {
        "id": "uySEXdEUrkq_"
      },
      "outputs": [],
      "source": [
        "\n",
        "def build_lm(lang: str, n: int, smoothed: bool = False) -> dict[str, dict[str, float]]:\n",
        "    '''\n",
        "    Return a language model for the given lang and n_gram (n)\n",
        "    :param lang: the language of the model\n",
        "    :param n: the n_gram value\n",
        "    :param smoothed: boolean indicating whether to apply smoothing\n",
        "    :return: a dictionary where the keys are n_grams and the values are dictionaries\n",
        "    '''\n",
        "    LM = {}\n",
        "    ########################################\n",
        "    assert n > 0, \"n must be greater than 0\"\n",
        "    V = set(vocab)   \n",
        "    vocab_length = len(vocab)\n",
        "    counts = defaultdict(Counter)\n",
        "\n",
        "    df = pd.read_csv(os.path.join(DIR, lang + '.csv'))\n",
        "    # Remove empty tweets\n",
        "    df = df[df['tweet_text'].notna()]\n",
        "    \n",
        "    # 1) Count\n",
        "    for tweet in df['tweet_text']:\n",
        "        seq = [START_TOKEN]*(n-1) + list(tweet) + [END_TOKEN]\n",
        "        for i in range(len(seq) - n + 1):\n",
        "            ctx = \"\".join(seq[i : i+n-1])\n",
        "            nxt = seq[i+n-1]\n",
        "            if nxt not in V:\n",
        "                nxt = UNK_TOKEN\n",
        "            counts[ctx][nxt] += 1\n",
        "\n",
        "    # 2) convert to probabilities (+ optional Laplace) -----------------\n",
        "    LM = {}\n",
        "    for ctx, counter in counts.items():\n",
        "        total = sum(counter.values()) + (vocab_length if smoothed else 0)\n",
        "        probs = {}\n",
        "\n",
        "        for ch in vocab:  # iterate over *all* symbols for smoothing\n",
        "            cnt = counter.get(ch, 0) + (1 if smoothed else 0)\n",
        "            probs[ch] = cnt / total\n",
        "        LM[ctx] = probs\n",
        "\n",
        "    # 3) uniform fallback for unseen contexts (helps eval / generate)\n",
        "    LM.setdefault(\n",
        "        \"\",\n",
        "        {ch: 1.0 / vocab_length for ch in vocab}      # uniform distribution\n",
        "    )\n",
        "\n",
        "    ########################################\n",
        "    return LM"
      ]
    },
    {
      "cell_type": "code",
      "execution_count": 7,
      "metadata": {
        "colab": {
          "base_uri": "https://localhost:8080/"
        },
        "id": "d9mqbEhBttmm",
        "outputId": "df92d141-999d-42c9-8c12-e6d5e51f7d81"
      },
      "outputs": [
        {
          "name": "stdout",
          "output_type": "stream",
          "text": [
            "English Language Model with 3-gram is of length: 8239\n"
          ]
        }
      ],
      "source": [
        "LM = build_lm(\"en\", 3, False)\n",
        "print(f\"English Language Model with 3-gram is of length: {len(LM)}\")"
      ]
    },
    {
      "cell_type": "markdown",
      "metadata": {
        "id": "xwZnk7Ke8rW5"
      },
      "source": [
        "## Part 3\n",
        "Implement the function *eval* that returns the perplexity of a model (dictionary) running over the data file of the given target language.\n",
        "\n",
        "The `<unk>` should be used for unknown contexts when calculating the perplexities."
      ]
    },
    {
      "cell_type": "code",
      "execution_count": 17,
      "metadata": {
        "id": "ef-EglxXrmk2"
      },
      "outputs": [],
      "source": [
        "def eval(model: dict, target_lang: str, n: int) -> float:\n",
        "    '''\n",
        "    Return the perplexity value calculated over applying the model on the text file\n",
        "    of the target_lang language.\n",
        "    :param model: the language model\n",
        "    :param target_lang: the target language\n",
        "    :param n: The n-gram of the model\n",
        "    :return: the perplexity value\n",
        "    '''\n",
        "    pp = 0\n",
        "    ########################################\n",
        "\n",
        "    path   = os.path.join(DIR, f\"{target_lang}.csv\")\n",
        "    tweets = pd.read_csv(path)[\"tweet_text\"].dropna().astype(str)\n",
        "\n",
        "    # shared constants\n",
        "    vocab   = list(next(iter(model.values())).keys())\n",
        "    V       = len(vocab)\n",
        "    uniform = 1.0 / V\n",
        "\n",
        "    log_sum   = 0.0     # total negative-log-likelihood\n",
        "    token_sum = 0       # total # predicted characters\n",
        "\n",
        "    for tweet in tweets:\n",
        "        seq = [START_TOKEN] * (n - 1) + list(tweet) + [END_TOKEN]\n",
        "\n",
        "        for i in range(n - 1, len(seq)):\n",
        "            ctx = \"\" if n == 1 else \"\".join(seq[i - n + 1 : i])\n",
        "            tok = seq[i] if seq[i] in vocab else UNK_TOKEN\n",
        "\n",
        "            prob = model.get(ctx, {}).get(tok, uniform)\n",
        "            if not prob:                            # covers None or 0.0\n",
        "                prob = uniform                      # 1 / |vocab|\n",
        "            log_sum   -= math.log(prob)         # accumulate −ln p\n",
        "            token_sum += 1\n",
        "\n",
        "    pp = math.exp(log_sum / token_sum) if token_sum else float(\"inf\")\n",
        "    # the class lecture showed that the perplexity is defined with 2 ** H, but the correct one is using e ** H\n",
        "\n",
        "    ########################################\n",
        "    return pp\n"
      ]
    },
    {
      "cell_type": "code",
      "execution_count": 9,
      "metadata": {
        "id": "AIdDFvinBVhx"
      },
      "outputs": [],
      "source": [
        "LM = build_lm(\"en\", 3, True)"
      ]
    },
    {
      "cell_type": "code",
      "execution_count": 18,
      "metadata": {
        "colab": {
          "base_uri": "https://localhost:8080/"
        },
        "id": "1WUouhkBuWJu",
        "outputId": "75967c86-5b00-480a-8ffd-574122f7a452"
      },
      "outputs": [
        {
          "name": "stdout",
          "output_type": "stream",
          "text": [
            "Perplexity of the English 3-gram model on datasets:\n",
            "On English:  26.75\n",
            "On French:  58.51\n",
            "On Dutch:  61.43\n",
            "On Tagalog:  70.61\n"
          ]
        }
      ],
      "source": [
        "print(\"Perplexity of the English 3-gram model on datasets:\")\n",
        "print(f\"On English: {eval(LM, 'en', 3): .2f}\")\n",
        "print(f\"On French: {eval(LM, 'fr', 3): .2f}\")\n",
        "print(f\"On Dutch: {eval(LM, 'nl', 3): .2f}\")\n",
        "print(f\"On Tagalog: {eval(LM, 'tl', 3): .2f}\")\n"
      ]
    },
    {
      "cell_type": "code",
      "execution_count": 11,
      "metadata": {
        "colab": {
          "base_uri": "https://localhost:8080/"
        },
        "id": "5XP3ZIpLqB6r",
        "outputId": "3378ada3-42c1-42fb-88eb-8eeec458d0cd"
      },
      "outputs": [
        {
          "name": "stdout",
          "output_type": "stream",
          "text": [
            "Perplexity on differnet n-gram models on English\n",
            "On 1-gram:  37.86\n",
            "On 2-gram:  21.30\n",
            "On 3-gram:  26.75\n",
            "On 4-gram:  59.90\n"
          ]
        }
      ],
      "source": [
        "lm1 = build_lm(\"en\", 1, True)\n",
        "lm2 = build_lm(\"en\", 2, True)\n",
        "lm3 = build_lm(\"en\", 3, True)\n",
        "lm4 = build_lm(\"en\", 4, True)\n",
        "\n",
        "print(\"Perplexity on differnet n-gram models on English\")\n",
        "print(f\"On 1-gram: {eval(lm1, 'en', 1): .2f}\")\n",
        "print(f\"On 2-gram: {eval(lm2, 'en', 2): .2f}\")\n",
        "print(f\"On 3-gram: {eval(lm3, 'en', 3): .2f}\")\n",
        "print(f\"On 4-gram: {eval(lm4, 'en', 4): .2f}\")"
      ]
    },
    {
      "cell_type": "markdown",
      "metadata": {
        "id": "9ZYVc7hB84LP"
      },
      "source": [
        "## Part 4\n",
        "Implement the *match* function that calls *eval* using a specific value of *n* for every possible language pair among the languages we have data for. You should call *eval* for every language pair four times, with each call assign a different value for *n* (1-4). Each language pair is composed of the source language and the target language. Before you make the call, you need to call the *lm* function to create the language model for the source language. Then you can call *eval* with the language model and the target language. The function should return a pandas DataFrame with the following four columns: *source_lang*, *target_lang*, *n*, *perplexity*. The values for the first two columns are the two-letter language codes. The value for *n* is the *n* you use for generating the specific perplexity values which you should store in the forth column."
      ]
    },
    {
      "cell_type": "code",
      "execution_count": 12,
      "metadata": {
        "id": "tMczigsHuadi"
      },
      "outputs": [],
      "source": [
        "languages = ['en', 'es', 'fr', 'in', 'it', 'nl', 'pt', 'tl']"
      ]
    },
    {
      "cell_type": "code",
      "execution_count": null,
      "metadata": {
        "id": "16ew9aZWroPC"
      },
      "outputs": [
        {
          "name": "stderr",
          "output_type": "stream",
          "text": [
            "Building language models: 100%|██████████| 32/32 [02:54<00:00,  5.44s/it]\n",
            "Perplexity evaluations: 100%|██████████| 256/256 [30:21<00:00,  7.12s/it]\n"
          ]
        }
      ],
      "source": [
        "def match() -> pd.DataFrame:\n",
        "    '''\n",
        "    Return a DataFrame containing one line per every language pair and n_gram.\n",
        "    Each line will contain the perplexity calculated when applying the language model\n",
        "    of the source language on the text of the target language.\n",
        "    :return: a DataFrame containing the perplexity values\n",
        "    '''\n",
        "    df  = pd.DataFrame()\n",
        "    ########################################\n",
        "    rows = []\n",
        "    langs = [os.path.splitext(f)[0] for f in os.listdir(DIR) if f.endswith('.csv')]\n",
        "    \n",
        "    # ── pre-compute all 4-gram LMs once per (src, n) ──────────────────\n",
        "    lm_cache = {}\n",
        "    total_models = len(langs) * 4                # one model per (src, n)\n",
        "    for src, n in tqdm(product(langs, range(1, 5)),\n",
        "                    total=total_models,\n",
        "                    desc=\"Building language models\"):\n",
        "        lm_cache[(src, n)] = build_lm(src, n, False)   # unsmoothed\n",
        "\n",
        "    # ── evaluate every (src, tgt, n) combination ──────────────────────\n",
        "    rows  = []\n",
        "    total = len(langs) * len(langs) * 4\n",
        "    for src, tgt, n in tqdm(product(langs, langs, range(1, 5)),\n",
        "                            total=total, desc=\"Perplexity evaluations\"):\n",
        "        pp = eval(lm_cache[(src, n)], tgt, n)\n",
        "        rows.append({\n",
        "            \"source_lang\": src,\n",
        "            \"target_lang\": tgt,\n",
        "            \"n\":           n,\n",
        "            \"perplexity\":  pp\n",
        "        })\n",
        "\n",
        "    df = pd.DataFrame(rows,\n",
        "                        columns=[\"source\", \"target\", \"n\", \"perplexity\"])\n",
        "    ########################################\n",
        "    return df\n",
        "  \n",
        "df = match()"
      ]
    },
    {
      "cell_type": "markdown",
      "metadata": {
        "id": "pAQoR0dH9C3T"
      },
      "source": [
        "## Part 5\n",
        "Implement the *generate* function which takes a language code, *n*, the prompt (the starting text), the number of tokens to generate, and *r*, which is the random seed for any randomized action you plan to take in your implementation. The function should start generating tokens, one by one, using the language model of the given source language and *n*. The prompt should be used as a starting point for aligning on the probabilities to be used for generating the next token.\n",
        "\n",
        "Note - The generation of the next token should be from the LM's distribution with NO smoothing."
      ]
    },
    {
      "cell_type": "code",
      "execution_count": 20,
      "metadata": {
        "id": "CpCm24-RrpuA"
      },
      "outputs": [],
      "source": [
        "def generate(lang: str, n: int, prompt: str, number_of_tokens: int, r: int) -> str:\n",
        "    '''\n",
        "    Generate text in the given language using the given parameters.\n",
        "    :param lang: the language of the model\n",
        "    :param n: the n_gram value\n",
        "    :param prompt: the prompt to start the generation\n",
        "    :param number_of_tokens: the number of tokens to generate\n",
        "    :param r: the random seed to use\n",
        "    '''\n",
        "    text = \"\"\n",
        "    ########################################\n",
        "    random.seed(r)                       # 1) reproducible RNG\n",
        "\n",
        "    lm = build_lm(lang, n, False)        # 2) unsmoothed n-gram LM\n",
        "    unigram = build_lm(lang, 1, False)['']  # 1-gram back-off\n",
        "\n",
        "    generated = list(prompt)             # char buffer\n",
        "\n",
        "    for _ in range(number_of_tokens):\n",
        "        # 3) context key\n",
        "        ctx = \"\" if n == 1 else \"\".join(generated[-(n - 1):])\n",
        "\n",
        "        # 4) choose distribution (n-gram if seen else unigram)\n",
        "        probs = lm.get(ctx, unigram)\n",
        "        chars, weights = zip(*probs.items())\n",
        "\n",
        "        # 5) sample next character\n",
        "        next_char = random.choices(chars, weights)[0]\n",
        "\n",
        "        if next_char == END_TOKEN:       # optional early stop\n",
        "            break\n",
        "\n",
        "        generated.append(next_char)\n",
        "\n",
        "    text = \"\".join(generated)\n",
        "    ########################################\n",
        "    return text"
      ]
    },
    {
      "cell_type": "markdown",
      "metadata": {
        "id": "eUWX8Ugu9INH"
      },
      "source": [
        "## Part 6\n",
        "Play with your generate function, try to generate different texts in different language and various values of *n*. No need to submit anything of that."
      ]
    },
    {
      "cell_type": "code",
      "execution_count": 21,
      "metadata": {},
      "outputs": [
        {
          "name": "stdout",
          "output_type": "stream",
          "text": [
            "I amVpsoponkoa\n",
            "I ama soigBlo \n",
            "I ama co/on of\n",
            "I am I cospeach\n",
            "Soy p\n",
            "Soy pos https\n",
            "Je suis voui\n",
            "Je suis vouvanLuc\n"
          ]
        }
      ],
      "source": [
        "print(generate('en', 1, \"I am\", 10, 5))\n",
        "print(generate('en', 2, \"I am\", 10, 5))\n",
        "print(generate('en', 3, \"I am\", 10, 5))\n",
        "print(generate('en', 4, \"I am \", 10, 5))\n",
        "print(generate('es', 2, \"Soy\", 10, 5))\n",
        "print(generate('es', 3, \"Soy\", 10, 5))\n",
        "print(generate('fr', 2, \"Je suis\", 10, 5))\n",
        "print(generate('fr', 3, \"Je suis\", 10, 5))"
      ]
    },
    {
      "cell_type": "markdown",
      "metadata": {
        "id": "q2jNlDISr9aL"
      },
      "source": [
        "# Testing"
      ]
    },
    {
      "cell_type": "markdown",
      "metadata": {
        "id": "uv48OCT_sIYW"
      },
      "source": [
        "Copy the content of the **tests.py** file from the repo and paste below. This will create the results.json file and download it to your machine."
      ]
    },
    {
      "cell_type": "code",
      "execution_count": 22,
      "metadata": {},
      "outputs": [
        {
          "name": "stderr",
          "output_type": "stream",
          "text": [
            "Building language models: 100%|██████████| 32/32 [02:44<00:00,  5.15s/it]\n",
            "Perplexity evaluations:  48%|████▊     | 122/256 [14:23<16:14,  7.27s/it]"
          ]
        },
        {
          "name": "stderr",
          "output_type": "stream",
          "text": [
            "Perplexity evaluations: 100%|██████████| 256/256 [30:05<00:00,  7.05s/it]\n"
          ]
        },
        {
          "ename": "NameError",
          "evalue": "name 'files' is not defined",
          "output_type": "error",
          "traceback": [
            "\u001b[0;31m---------------------------------------------------------------------------\u001b[0m",
            "\u001b[0;31mNameError\u001b[0m                                 Traceback (most recent call last)",
            "Cell \u001b[0;32mIn[22], line 61\u001b[0m\n\u001b[1;32m     58\u001b[0m     json\u001b[38;5;241m.\u001b[39mdump(res, f, indent\u001b[38;5;241m=\u001b[39m\u001b[38;5;241m2\u001b[39m)\n\u001b[1;32m     60\u001b[0m \u001b[38;5;66;03m# Download the results.json file\u001b[39;00m\n\u001b[0;32m---> 61\u001b[0m \u001b[43mfiles\u001b[49m\u001b[38;5;241m.\u001b[39mdownload(\u001b[38;5;124m'\u001b[39m\u001b[38;5;124mresults.json\u001b[39m\u001b[38;5;124m'\u001b[39m)\n\u001b[1;32m     62\u001b[0m \u001b[38;5;66;03m########################################\u001b[39;00m\n",
            "\u001b[0;31mNameError\u001b[0m: name 'files' is not defined"
          ]
        }
      ],
      "source": [
        "########################################\n",
        "# PLACE TESTS HERE #\n",
        "# Create tests\n",
        "def test_preprocess():\n",
        "    return {\n",
        "        'vocab_length': len(preprocess()),\n",
        "    }\n",
        "\n",
        "def test_build_lm():\n",
        "    return {\n",
        "        'english_2_gram_length': len(build_lm('en', 2, True)),\n",
        "        'english_3_gram_length': len(build_lm('en', 3, True)),\n",
        "        'french_3_gram_length': len(build_lm('fr', 3, True)),\n",
        "        'spanish_3_gram_length': len(build_lm('es', 3, True)),\n",
        "    }\n",
        "\n",
        "def test_eval():\n",
        "    lm = build_lm('en', 3, True)\n",
        "    return {\n",
        "        'en_on_en': round(eval(lm, 'en', 3), 2),\n",
        "        'en_on_fr': round(eval(lm, 'fr', 3), 2),\n",
        "        'en_on_tl': round(eval(lm, 'tl', 3), 2),\n",
        "        'en_on_nl': round(eval(lm, 'nl', 3), 2),\n",
        "    }\n",
        "\n",
        "def test_match():\n",
        "    df = match()\n",
        "    return {\n",
        "        'df_shape': df.shape,\n",
        "        'en_en_3': df[(df['source'] == 'en') & (df['target'] == 'en') & (df['n'] == 3)]['perplexity'].values[0],\n",
        "        'en_tl_3': df[(df['source'] == 'en') & (df['target'] == 'tl') & (df['n'] == 3)]['perplexity'].values[0],\n",
        "        'en_nl_3': df[(df['source'] == 'en') & (df['target'] == 'nl') & (df['n'] == 3)]['perplexity'].values[0],\n",
        "    }\n",
        "\n",
        "def test_generate():\n",
        "    return {\n",
        "        'english_2_gram': generate('en', 2, \"I am\", 20, 5),\n",
        "        'english_3_gram': generate('en', 3, \"I am\", 20, 5),\n",
        "        'english_4_gram': generate('en', 4, \"I Love\", 20, 5),\n",
        "        'spanish_2_gram': generate('es', 2, \"Soy\", 20, 5),\n",
        "        'spanish_3_gram': generate('es', 3, \"Soy\", 20, 5),\n",
        "        'french_2_gram': generate('fr', 2, \"Je suis\", 20, 5),\n",
        "        'french_3_gram': generate('fr', 3, \"Je suis\", 20, 5),\n",
        "    }\n",
        "\n",
        "TESTS = [test_preprocess, test_build_lm, test_eval, test_match, test_generate]\n",
        "\n",
        "# Run tests and save results\n",
        "res = {}\n",
        "for test in TESTS:\n",
        "    try:\n",
        "        cur_res = test()\n",
        "        res.update({test.__name__: cur_res})\n",
        "    except Exception as e:\n",
        "        res.update({test.__name__: repr(e)})\n",
        "\n",
        "with open('results.json', 'w') as f:\n",
        "    json.dump(res, f, indent=2)\n",
        "\n",
        "# Download the results.json file\n",
        "files.download('results.json')\n",
        "########################################"
      ]
    },
    {
      "cell_type": "code",
      "execution_count": null,
      "metadata": {
        "colab": {
          "base_uri": "https://localhost:8080/"
        },
        "id": "0dEpidyrqXTr",
        "outputId": "771c371b-d07c-4aee-fd4e-8bca0a9d31f3"
      },
      "outputs": [
        {
          "name": "stdout",
          "output_type": "stream",
          "text": [
            "total 12\n",
            "drwxr-xr-x 2 root root 4096 Mar 27 16:54 data\n",
            "-rw-r--r-- 1 root root  903 Mar 27 17:05 results.json\n",
            "drwxr-xr-x 1 root root 4096 Mar 24 13:34 sample_data\n"
          ]
        }
      ],
      "source": [
        "# # Show the local files, results.json should be there now and\n",
        "# # also downloaded to your local machine\n",
        "# !ls -l"
      ]
    },
    {
      "cell_type": "code",
      "execution_count": null,
      "metadata": {
        "id": "UA8l8Vg5hPtr"
      },
      "outputs": [],
      "source": []
    }
  ],
  "metadata": {
    "colab": {
      "provenance": []
    },
    "kernelspec": {
      "display_name": "base",
      "language": "python",
      "name": "python3"
    },
    "language_info": {
      "codemirror_mode": {
        "name": "ipython",
        "version": 3
      },
      "file_extension": ".py",
      "mimetype": "text/x-python",
      "name": "python",
      "nbconvert_exporter": "python",
      "pygments_lexer": "ipython3",
      "version": "3.12.2"
    }
  },
  "nbformat": 4,
  "nbformat_minor": 0
}
